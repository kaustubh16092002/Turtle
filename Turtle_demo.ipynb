{
 "cells": [
  {
   "cell_type": "code",
   "execution_count": null,
   "id": "db1596f4",
   "metadata": {},
   "outputs": [],
   "source": [
    "import turtle\n",
    "from usefulturtlefunctions import *\n",
    "drawline(-50,-50,50,50)\n",
    "writetext(\"Testing useful Turtle functions\",-50,-60)\n",
    "drawpoint(0,0)\n",
    "drawcircle(0,0,80)\n",
    "drawrectangle(0,0,60,40)\n",
    "turtle.hideturtle()\n",
    "turtle.done()"
   ]
  }
 ],
 "metadata": {
  "kernelspec": {
   "display_name": "Python 3",
   "language": "python",
   "name": "python3"
  },
  "language_info": {
   "codemirror_mode": {
    "name": "ipython",
    "version": 3
   },
   "file_extension": ".py",
   "mimetype": "text/x-python",
   "name": "python",
   "nbconvert_exporter": "python",
   "pygments_lexer": "ipython3",
   "version": "3.8.8"
  }
 },
 "nbformat": 4,
 "nbformat_minor": 5
}
